{
 "cells": [
  {
   "cell_type": "markdown",
   "id": "924416fa",
   "metadata": {},
   "source": [
    "<div style=\"text-align: center; font-size: 4em; font-weight: bold;\">\n",
    "    <br>Basic Introduction to: \n",
    "</div>\n",
    "\n",
    "<br>"
   ]
  },
  {
   "attachments": {
    "pybamm.png": {
     "image/png": "[encoded data removed]"
    }
   },
   "cell_type": "markdown",
   "id": "b82ba770",
   "metadata": {},
   "source": [
    "![pybamm.png](attachment:pybamm.png)"
   ]
  },
  {
   "cell_type": "markdown",
   "id": "856f5f26",
   "metadata": {},
   "source": [
    "## Background: \n",
    "----\n",
    "### What is Pybamm?\n",
    "* An Open-source battery modeling package for fast, flexible battery simulations[<sup>1](https://openresearchsoftware.metajnl.com/articles/10.5334/jors.309#:~:text=PyBaMM%20(Python%20Battery%20Mathematical%20Modelling,multi%2Dinstitutional%2C%20interdisciplinary%20collaboration.)\n",
    "* An alternative to Comsol's proprietary battery design module \n",
    "* Supports Lead-acid and Lithium-Ion battery modeling [<sup>2](https://docs.pybamm.org/en/latest/source/api/models/index.html)\n",
    "* Capable of cell and pack-level modeling(Li-Ion Pack) [<sup>3](https://www.theoj.org/joss-papers/joss.04051/10.21105.joss.04051.pdf)\n",
    "---\n",
    "### Why Pybamm? \n",
    "* Free for academic, commercial, and personal use (provided notices are maintained for licenses and copyrights) \n",
    "* Continuously improving capabilities through collaboration with >70 researchers\n",
    "* Facilitate new model development[<sup>4](https://fpc-event.co.uk/wp-content/uploads/2022/03/Batteries-modelling-ferran-brosa.pdf)\n",
    "---\n",
    "### Analytical Capabilities: \n",
    "* Thermal transport[<sup>5](https://docs.pybamm.org/en/stable/source/examples/notebooks/models/thermal-models.html)\n",
    "* Electrolyte transport[<sup>6](https://docs.pybamm.org/en/latest/_modules/pybamm/models/full_battery_models/base_battery_model.html)\n",
    "* Aging mechanisms[<sup>7](https://docs.pybamm.org/en/stable/source/examples/notebooks/models/lithium-plating.html)\n",
    "* Voltage response\n",
    "----\n",
    "### Models Supported: \n",
    "#### Electrochemical Models\n",
    "* Single Particle Model (SPM)[<sup>8](https://docs.pybamm.org/en/latest/source/api/models/lithium_ion/spm.html)\n",
    "* Single Particle Model with electrolyte (SPMe)[<sup>9](https://docs.pybamm.org/en/latest/source/api/models/lithium_ion/spme.html)\n",
    "* Doyle-Fuller Newman Model (DFN)[<sup>10](https://docs.pybamm.org/en/latest/source/api/models/lithium_ion/dfn.html)\n",
    "* Multi-Species, Multi-Reaction Model (MSMR)[<sup>11](https://docs.pybamm.org/en/latest/source/api/models/lithium_ion/msmr.html)\n",
    "\n",
    "#### Empirical Models\n",
    "* Equivalent Circuit Model (ECM)[<sup>12](https://docs.pybamm.org/en/stable/source/api/models/submodels/equivalent_circuit_elements/voltage_model.html)\n",
    "----\n",
    "### Chemistries Supported: \n",
    "**Cathode**\n",
    "* NCA \n",
    "* NMC \n",
    "* LFP\n",
    "* LCO\n",
    "* LiNiCoO2 \n",
    "\n",
    "**Anode**\n",
    "* Graphite\n",
    "* Li Metal \n",
    "* Graphite + Silicon Oxide\n",
    "\n",
    "**Electrolyte** \n",
    "* LiPF6\n",
    "\n",
    "With many forthcoming in the future.[<sup>13](https://fpc-event.co.uk/wp-content/uploads/2022/03/Batteries-modelling-ferran-brosa.pdf)"
   ]
  },
  {
   "cell_type": "markdown",
   "id": "c1a17add",
   "metadata": {},
   "source": [
    "----\n",
    "## Installing Pybamm:\n",
    "Let's get started by installing pybamm. Detailed documentation on installation options across platforms and with/without virtual environments can be found here under *Full Installation Guide*.  https://docs.pybamm.org/en/stable/source/user_guide/installation/index.html"
   ]
  },
  {
   "cell_type": "code",
   "execution_count": 1,
   "id": "b603e2f3",
   "metadata": {},
   "outputs": [],
   "source": [
    "!pip install pybamm"
   ]
  },
  {
   "cell_type": "markdown",
   "id": "7849dcf9",
   "metadata": {},
   "source": [
    "----\n",
    "## Running your First Model:"
   ]
  },
  {
   "cell_type": "code",
   "execution_count": 3,
   "id": "62eae596",
   "metadata": {
    "scrolled": true
   },
   "outputs": [
    {
     "data": {
      "application/vnd.jupyter.widget-view+json": {
       "model_id": "c3c66587ba8b492f82af1a7b68f1f666",
       "version_major": 2,
       "version_minor": 0
      },
      "text/plain": [
       "interactive(children=(FloatSlider(value=0.0, description='t', max=1.0, step=0.01), Output()), _dom_classes=('w…"
      ]
     },
     "metadata": {},
     "output_type": "display_data"
    },
    {
     "data": {
      "text/plain": [
       "<pybamm.plotting.quick_plot.QuickPlot at 0x1c2f6e9fa90>"
      ]
     },
     "execution_count": 3,
     "metadata": {},
     "output_type": "execute_result"
    }
   ],
   "source": [
    "#import package(s)\n",
    "import pybamm\n",
    "\n",
    "#Select a model type\n",
    "model = pybamm.lithium_ion.SPM()\n",
    "model = pybamm.lithium_ion.SPMe()\n",
    "model = pybamm.lithium_ion.DFN()\n",
    "\n",
    "#Setup a simulation\n",
    "simulation = pybamm.Simulation(model)\n",
    "\n",
    "#Solve the Model\n",
    "simulation.solve([0, 3600])\n",
    "\n",
    "#plot results: \n",
    "simulation.plot()"
   ]
  },
  {
   "cell_type": "markdown",
   "id": "d731b78e",
   "metadata": {},
   "source": [
    "----\n",
    "## Training Provided By: \n",
    "Matt Jones <br>[Email](@mjones@envirolytica.com) | [LinkedIn](https://www.linkedin.com/in/jonesmatthewdavid/) <br>[Github](https://github.com/MDJonesBYU/Introduction-to-Pybamm) | [Website](www.Envirolytica.com)"
   ]
  },
  {
   "cell_type": "markdown",
   "id": "735ee2fe",
   "metadata": {},
   "source": [
    "----\n",
    "## Citations: \n",
    "\n",
    "1. Sulzer, Valentin, et al. “Python Battery Mathematical Modelling (Pybamm).” Journal of Open Research Software<br>&nbsp;&nbsp;&nbsp;&nbsp;&nbsp;&nbsp;Ubiquity Press, 8 June 2021<br>&nbsp;&nbsp;&nbsp;&nbsp;&nbsp;&nbsp;openresearchsoftware.metajnl.com/articles/10.5334/jors.309#:~:text=PyBaMM%20(Python%20Battery%20Mathem<br>&nbsp;&nbsp;&nbsp;&nbsp;&nbsp;&nbsp;atical%20Modelling,multi%2Dinstitutional%2C%20interdisciplinary%20collaboration. <br><br>\n",
    "2. “Models” Models - PyBaMM V23.9 Manual, Pybamm, 4 Aug. 2023,<br>&nbsp;&nbsp;&nbsp;&nbsp;&nbsp;&nbsp;docs.pybamm.org/en/latest/source/api/models/index.html.<br><br>\n",
    "3. Tranter, et al. Liionpack: A Python Package for Simulating Packs of Batteries with Pybamm, Journal of Open Source <br>&nbsp;&nbsp;&nbsp;&nbsp;&nbsp;&nbsp;Software, www.theoj.org/joss-papers/joss.04051/10.21105.joss.04051.pdf. Accessed 7 Jan. 2024. <br><br>\n",
    "4. Brosa Planella, Ferran. Pybamm: An Open-Source Python Library for Battery Modelling, Future Propulsion Conference <br>&nbsp;&nbsp;&nbsp;&nbsp;&nbsp;&nbsp;2023, fpc-event.co.uk/wp-content/uploads/2022/03/Batteries-modelling-ferran-brosa.pdf. Accessed 7 Jan. 2024. <br><br>\n",
    "5. “Thermal Models” Thermal Models - PyBaMM V23.9 Manual, Pybamm, 29 Sept. 2023, <br>&nbsp;&nbsp;&nbsp;&nbsp;&nbsp;&nbsp;docs.pybamm.org/en/stable/source/examples/notebooks/models/thermal-models.html. <br><br>\n",
    "6. “Base Battery Model” Full Battery Models - PyBaMM V23.9 Manual, Pybamm, 29 Sept. 2023, <br>&nbsp;&nbsp;&nbsp;&nbsp;&nbsp;&nbsp;docs.pybamm.org/en/latest/_modules/pybamm/models/full_battery_models/base_battery_model.html. <br><br>\n",
    "7. “Lithium Plating” Models - PyBaMM V23.9 Manual, Pybamm, 29 Sept. 2023, <br>&nbsp;&nbsp;&nbsp;&nbsp;&nbsp;&nbsp;docs.pybamm.org/en/stable/source/examples/notebooks/models/lithium-plating.html <br><br>\n",
    "8. “Single Particle Model” SPM - PyBaMM V23.9 Manual, Pybamm, 29 Sept. 2023, <br>&nbsp;&nbsp;&nbsp;&nbsp;&nbsp;&nbsp;docs.pybamm.org/en/latest/source/api/models/lithium_ion/spm.html<br><br>\n",
    "9. “Single Particle Model with Electrolyte” SPMe - PyBaMM V23.9 Manual, Pybamm, 29 Sept. 2023, <br>&nbsp;&nbsp;&nbsp;&nbsp;&nbsp;&nbsp;docs.pybamm.org/en/latest/source/api/models/lithium_ion/spme.html<br><br>\n",
    "10. “Doyle Fuller Newman Model” DFN - PyBaMM V23.9 Manual, Pybamm, 29 Sept. 2023, <br>&nbsp;&nbsp;&nbsp;&nbsp;&nbsp;&nbsp;docs.pybamm.org/en/latest/source/api/models/lithium_ion/dfn.html<br><br>\n",
    "11. “Multi-species, Multi-reaction” MSMR - PyBaMM V23.9 Manual, Pybamm, 29 Sept. 2023, <br>&nbsp;&nbsp;&nbsp;&nbsp;&nbsp;&nbsp;docs.pybamm.org/en/latest/source/api/models/lithium_ion/msmr.html<br><br>\n",
    "12. “Equivalent Circuit Model” ECE - PyBaMM V23.9 Manual, Pybamm, 29 Sept. 2023, <br>&nbsp;&nbsp;&nbsp;&nbsp;&nbsp;&nbsp;docs.pybamm.org/en/stable/source/api/models/submodels/equivalent_circuit_elements/voltage_model.html<br><br>\n",
    "13. Brosa Planella, Ferran. Pybamm: An Open-Source Python Library for Battery Modelling, Future Propulsion Conference <br>&nbsp;&nbsp;&nbsp;&nbsp;&nbsp;&nbsp;2023, fpc-event.co.uk/wp-content/uploads/2022/03/Batteries-modelling-ferran-brosa.pdf. Accessed 7 Jan. 2024. "
   ]
  },
  {
   "cell_type": "markdown",
   "id": "64c1f7a9",
   "metadata": {},
   "source": [
    "----\n",
    "## Pybamm License and Copyright Details: \n",
    "[License](https://github.com/pybamm-team/PyBaMM/blob/develop/LICENSE.txt)\n"
   ]
  },
  {
   "cell_type": "code",
   "execution_count": null,
   "id": "1269e7e0",
   "metadata": {},
   "outputs": [],
   "source": []
  }
 ],
 "metadata": {
  "kernelspec": {
   "display_name": "Python 3 (ipykernel)",
   "language": "python",
   "name": "python3"
  },
  "language_info": {
   "codemirror_mode": {
    "name": "ipython",
    "version": 3
   },
   "file_extension": ".py",
   "mimetype": "text/x-python",
   "name": "python",
   "nbconvert_exporter": "python",
   "pygments_lexer": "ipython3",
   "version": "3.11.5"
  }
 },
 "nbformat": 4,
 "nbformat_minor": 5
}
